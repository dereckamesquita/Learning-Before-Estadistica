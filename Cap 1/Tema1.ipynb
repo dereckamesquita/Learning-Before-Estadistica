{
  "nbformat": 4,
  "nbformat_minor": 0,
  "metadata": {
    "colab": {
      "name": "Tema1",
      "provenance": [],
      "collapsed_sections": [],
      "authorship_tag": "ABX9TyPV8C+Q65dHAX1W8+I+eVC7",
      "include_colab_link": true
    },
    "kernelspec": {
      "name": "python3",
      "display_name": "Python 3"
    },
    "language_info": {
      "name": "python"
    }
  },
  "cells": [
    {
      "cell_type": "markdown",
      "metadata": {
        "id": "view-in-github",
        "colab_type": "text"
      },
      "source": [
        "<a href=\"https://colab.research.google.com/github/dereckamesquita/Estadistica-DS/blob/main/1%20DataFrames/Tema1.ipynb\" target=\"_parent\"><img src=\"https://colab.research.google.com/assets/colab-badge.svg\" alt=\"Open In Colab\"/></a>"
      ]
    },
    {
      "cell_type": "code",
      "metadata": {
        "id": "dpeWa5laRH8Y"
      },
      "source": [
        "print(\"hello 1\")"
      ],
      "execution_count": null,
      "outputs": []
    }
  ]
}