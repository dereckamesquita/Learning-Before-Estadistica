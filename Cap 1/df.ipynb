{
  "nbformat": 4,
  "nbformat_minor": 0,
  "metadata": {
    "colab": {
      "name": "df",
      "provenance": [],
      "authorship_tag": "ABX9TyMt5tL4g4LDo6wu7CP5NTE1",
      "include_colab_link": true
    },
    "kernelspec": {
      "name": "python3",
      "display_name": "Python 3"
    },
    "language_info": {
      "name": "python"
    }
  },
  "cells": [
    {
      "cell_type": "markdown",
      "metadata": {
        "id": "view-in-github",
        "colab_type": "text"
      },
      "source": [
        "<a href=\"https://colab.research.google.com/github/dereckamesquita/Estadistica-DS/blob/main/1%20DataFrames/df.ipynb\" target=\"_parent\"><img src=\"https://colab.research.google.com/assets/colab-badge.svg\" alt=\"Open In Colab\"/></a>"
      ]
    },
    {
      "cell_type": "code",
      "metadata": {
        "colab": {
          "base_uri": "https://localhost:8080/"
        },
        "id": "MLz8AEPLVGBB",
        "outputId": "ec9250ea-781b-4aab-f8d6-e0b2a4bdc471"
      },
      "source": [
        "print(\"hello\")\n",
        "\n",
        "print(\"hello3\")\n",
        "print(\"no\")"
      ],
      "execution_count": null,
      "outputs": [
        {
          "output_type": "stream",
          "text": [
            "hello\n",
            "hello3\n"
          ],
          "name": "stdout"
        }
      ]
    }
  ]
}